{
 "cells": [
  {
   "cell_type": "code",
   "execution_count": 1,
   "metadata": {},
   "outputs": [],
   "source": [
    "import pandas as pd\n",
    "\n",
    "from bs4 import BeautifulSoup\n",
    "import requests\n",
    "from selenium import webdriver\n",
    "from webdriver_manager.chrome import ChromeDriverManager\n",
    "\n",
    "#driver = webdriver.Chrome(ChromeDriverManager().install())"
   ]
  },
  {
   "cell_type": "code",
   "execution_count": 2,
   "metadata": {},
   "outputs": [],
   "source": [
    "#Request via request get\n",
    "\n",
    "r = requests.get('https://www.tudogostoso.com.br/')\n",
    "soup = BeautifulSoup(r.content)"
   ]
  },
  {
   "cell_type": "code",
   "execution_count": 3,
   "metadata": {},
   "outputs": [
    {
     "name": "stderr",
     "output_type": "stream",
     "text": [
      "\n",
      "\n",
      "====== WebDriver manager ======\n",
      "Current google-chrome version is 111.0.5563\n",
      "Get LATEST chromedriver version for 111.0.5563 google-chrome\n",
      "There is no [win32] chromedriver for browser  in cache\n",
      "Trying to download new driver from https://chromedriver.storage.googleapis.com/111.0.5563.64/chromedriver_win32.zip\n",
      "Driver has been saved in cache [C:\\Users\\mateu\\.wdm\\drivers\\chromedriver\\win32\\111.0.5563.64]\n",
      "C:\\Users\\mateu\\AppData\\Local\\Temp\\ipykernel_6512\\3247210026.py:9: DeprecationWarning: executable_path has been deprecated, please pass in a Service object\n",
      "  driver = webdriver.Chrome(ChromeDriverManager().install())\n"
     ]
    }
   ],
   "source": [
    "#Request via Web Driver\n",
    "\n",
    "from selenium import webdriver\n",
    "from selenium.webdriver.chrome.options import Options\n",
    "\n",
    "options = Options()\n",
    "options.headless = True\n",
    "options.add_argument(\"--window-size=1920,1200\")\n",
    "driver = webdriver.Chrome(ChromeDriverManager().install())\n",
    "driver.get(\"https://www.tudogostoso.com.br/\")\n",
    "r = driver.page_source\n",
    "soup = BeautifulSoup(r, \"html.parser\")\n",
    "driver.quit()"
   ]
  },
  {
   "cell_type": "code",
   "execution_count": 4,
   "metadata": {},
   "outputs": [],
   "source": [
    "results = soup.find_all('div',class_='more-highlights highlights d-flex mb-4')\n",
    "records_recipes = []\n",
    "records_categories = [] \n",
    "records_users = []  \n",
    "\n",
    "for result in results:  \n",
    "    recipes = result.find_all('h3', class_='title') # result not results\n",
    "    categories = result.find_all('div', class_='category')\n",
    "    users = result.find_all('div', class_='user')\n",
    "    if recipes:\n",
    "        for span in recipes:\n",
    "            records_recipes.append(span.text)\n",
    "        for span in categories:\n",
    "            records_categories.append(span.text) \n",
    "        for span in users:\n",
    "            records_users.append(span.text) \n"
   ]
  },
  {
   "cell_type": "code",
   "execution_count": 5,
   "metadata": {},
   "outputs": [
    {
     "name": "stdout",
     "output_type": "stream",
     "text": [
      "Recipe: Bolo de maçã de liquidificador - o melhor do mundo\n",
      "Category: Bolos e tortas doces\n",
      "User: Maria Inez Galhardo\n",
      "Favorites: 41.391\n",
      "Time: 40 min\n",
      "Portion: 25 porções\n",
      "Rapida: Not fast\n",
      "Recipe Link: /receita/109535-bolo-de-maca-de-liquidificador-o-melhor-do-mundo.html\n",
      " \n",
      "Recipe: Fricassê de frango\n",
      "Category: Aves\n",
      "User: kenia tavares\n",
      "Favorites: 407.417\n",
      "Time: 30 min\n",
      "Portion: 5 porções\n",
      "Rapida: Not fast\n",
      "Recipe Link: /receita/10254-fricasse-de-frango.html\n",
      " \n",
      "Recipe: Bolo de fubá com goiabada\n",
      "Category: Bolos e tortas doces\n",
      "User: cle\n",
      "Favorites: 57.438\n",
      "Time: 40 min\n",
      "Portion: 10 porções\n",
      "Rapida: Not fast\n",
      "Recipe Link: /receita/3004-bolo-de-fuba-com-goiabada.html\n",
      " \n",
      "Recipe: Panqueca de carne moída\n",
      "Category: Massas\n",
      "User: Daniel Soberas\n",
      "Favorites: 266.898\n",
      "Time: 40 min\n",
      "Portion: 10 porções\n",
      "Rapida: Not fast\n",
      "Recipe Link: /receita/760-panqueca-de-carne-moida.html\n",
      " \n",
      "Recipe: Mousse de limão\n",
      "Category: Doces e sobremesas\n",
      "User: Carolina Grelo Carim\n",
      "Favorites: 102.878\n",
      "Time: 10 min\n",
      "Portion: 10 porções\n",
      "Rapida: Fast recipe\n",
      "Recipe Link: /receita/1621-mousse-de-limao.html\n",
      " \n",
      "Recipe: Brigadeiro\n",
      "Category: Doces e sobremesas\n",
      "User: TudoGostoso\n",
      "Favorites: 185.736\n",
      "Time: 25 min\n",
      "Portion: 30 porções\n",
      "Rapida: Fast recipe\n",
      "Recipe Link: /receita/114-brigadeiro.html\n",
      " \n"
     ]
    }
   ],
   "source": [
    "# Team favorites recipes\n",
    "\n",
    "results = soup.find('div',class_='team-favorites d-flex mb-4')\n",
    "results2 = results.find_all('div',class_='mb-3 recipe-card recipe-card-with-hover')\n",
    "records_recipes = []\n",
    "records_categories = [] \n",
    "records_users = []  \n",
    "\n",
    "for result in results2:  \n",
    "    recipes = result.find('h3', class_='title').text #\n",
    "    categories = result.find('div', class_='category').text\n",
    "    users = result.find('div', class_='user').span.text\n",
    "    favorites = result.find('div', class_='favorites').text\n",
    "    time = result.find('div', class_='time').text\n",
    "    portion = result.find('div', class_='portion').text\n",
    "    recipeLink = result.find('a', class_ = 'link row m-0').get(\"href\")\n",
    "    if result.find('i', class_='ico rapida') is not None:\n",
    "        rapida = \"Fast recipe\"\n",
    "    else:\n",
    "        rapida = \"Not fast\"\n",
    "\n",
    "    print(f'Recipe: {recipes.strip()}')\n",
    "    print(f'Category: {categories.strip()}')\n",
    "    print(f'User: {users.strip()}')\n",
    "    print(f'Favorites: {favorites.strip()}')\n",
    "    print(f'Time: {time.strip()}')\n",
    "    print(f'Portion: {portion.strip()}')\n",
    "    print(f'Rapida: {rapida}')\n",
    "    print(f'Recipe Link: {recipeLink}')\n",
    "    print(\" \")"
   ]
  },
  {
   "cell_type": "code",
   "execution_count": 6,
   "metadata": {},
   "outputs": [
    {
     "name": "stderr",
     "output_type": "stream",
     "text": [
      "C:\\Users\\mateu\\AppData\\Local\\Temp\\ipykernel_6512\\1228061782.py:23: FutureWarning: The frame.append method is deprecated and will be removed from pandas in a future version. Use pandas.concat instead.\n",
      "  df = df.append(row, ignore_index=True)\n",
      "C:\\Users\\mateu\\AppData\\Local\\Temp\\ipykernel_6512\\1228061782.py:23: FutureWarning: The frame.append method is deprecated and will be removed from pandas in a future version. Use pandas.concat instead.\n",
      "  df = df.append(row, ignore_index=True)\n",
      "C:\\Users\\mateu\\AppData\\Local\\Temp\\ipykernel_6512\\1228061782.py:23: FutureWarning: The frame.append method is deprecated and will be removed from pandas in a future version. Use pandas.concat instead.\n",
      "  df = df.append(row, ignore_index=True)\n",
      "C:\\Users\\mateu\\AppData\\Local\\Temp\\ipykernel_6512\\1228061782.py:23: FutureWarning: The frame.append method is deprecated and will be removed from pandas in a future version. Use pandas.concat instead.\n",
      "  df = df.append(row, ignore_index=True)\n",
      "C:\\Users\\mateu\\AppData\\Local\\Temp\\ipykernel_6512\\1228061782.py:23: FutureWarning: The frame.append method is deprecated and will be removed from pandas in a future version. Use pandas.concat instead.\n",
      "  df = df.append(row, ignore_index=True)\n",
      "C:\\Users\\mateu\\AppData\\Local\\Temp\\ipykernel_6512\\1228061782.py:23: FutureWarning: The frame.append method is deprecated and will be removed from pandas in a future version. Use pandas.concat instead.\n",
      "  df = df.append(row, ignore_index=True)\n"
     ]
    }
   ],
   "source": [
    "# Team favorites recipes\n",
    "\n",
    "results = soup.find('div',class_='team-favorites d-flex mb-4')\n",
    "results2 = results.find_all('div',class_='mb-3 recipe-card recipe-card-with-hover')\n",
    "df = pd.DataFrame()\n",
    "\n",
    "for result in results2:  \n",
    "    recipes = result.find('h3', class_='title').text.strip() # result not results\n",
    "    categories = result.find('div', class_='category').text.strip()\n",
    "    users = result.find('div', class_='user').span.text.strip()\n",
    "    favorites = result.find('div', class_='favorites').text.strip()\n",
    "    time = result.find('div', class_='time').text.strip()\n",
    "    portion = result.find('div', class_='portion').text.strip()\n",
    "    recipeLink = result.find('a', class_ = 'link row m-0').get(\"href\")\n",
    "    if result.find('i', class_='ico rapida') is not None:\n",
    "        rapida = \"Fast recipe\"\n",
    "    else:\n",
    "        rapida = \"Not fast\"\n",
    "    \n",
    "    # Create a new row containing the extracted information\n",
    "    row = {\"recipes\": recipes, \"categories\": categories, \"users\": users, \"favorites\": favorites, \"time\": time, \"portion\": portion,\"rapida\": rapida, \"recipeLink\": recipeLink}\n",
    "    # Append the row to the dataframe\n",
    "    df = df.append(row, ignore_index=True)"
   ]
  }
 ],
 "metadata": {
  "kernelspec": {
   "display_name": "Python 3.9.7 ('base')",
   "language": "python",
   "name": "python3"
  },
  "language_info": {
   "codemirror_mode": {
    "name": "ipython",
    "version": 3
   },
   "file_extension": ".py",
   "mimetype": "text/x-python",
   "name": "python",
   "nbconvert_exporter": "python",
   "pygments_lexer": "ipython3",
   "version": "3.9.7"
  },
  "orig_nbformat": 4,
  "vscode": {
   "interpreter": {
    "hash": "c21ef7c4b479e63ffcf38c2f3c38646b6397e704401ba91575bcf3e368a4de3f"
   }
  }
 },
 "nbformat": 4,
 "nbformat_minor": 2
}
